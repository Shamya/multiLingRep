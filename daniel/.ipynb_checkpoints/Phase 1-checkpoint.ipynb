{
 "cells": [
  {
   "cell_type": "code",
   "execution_count": 4,
   "metadata": {
    "collapsed": false
   },
   "outputs": [
    {
     "name": "stdout",
     "output_type": "stream",
     "text": [
      "LOADING WORD2VEC MODEL\n",
      "LOADED WORD2VEC MODEL\n"
     ]
    }
   ],
   "source": [
    "import gensim\n",
    "import numpy as np\n",
    "import math\n",
    "\n",
    "#Download https://drive.google.com/file/d/0B7XkCwpI5KDYNlNUTTlSS21pQmM/edit\n",
    "def w2vec_model():\n",
    "  print \"LOADING WORD2VEC MODEL\"\n",
    "  model = gensim.models.Word2Vec.load_word2vec_format('/Users/danielsampetethiyagu/Downloads/GoogleNews-vectors-negative300.bin', binary=True)\n",
    "  print \"LOADED WORD2VEC MODEL\"\n",
    "  return model\n",
    "w2v_model = w2vec_model()"
   ]
  },
  {
   "cell_type": "code",
   "execution_count": 20,
   "metadata": {
    "collapsed": false
   },
   "outputs": [
    {
     "data": {
      "text/plain": [
       "array([0])"
      ]
     },
     "execution_count": 20,
     "metadata": {},
     "output_type": "execute_result"
    }
   ],
   "source": [
    "from sklearn import svm\n",
    "from nltk.tokenize import word_tokenize\n",
    "\n",
    "def tokensOfDocument(document):\n",
    "    return word_tokenize(document)\n",
    "\n",
    "trainInputSentences = [\"This is a good place\", \"This is a bad place\"]\n",
    "trainInputAnswers = [1,0]\n",
    "testInputSentences = [\"This is a very bad place\"]\n",
    "testInputAnswers = [1]\n",
    "\n",
    "def convertDocumentToVector(w2v_model, sentence, dimensionOfVector):\n",
    "    tokens = tokensOfDocument(sentence)\n",
    "    Vector = np.zeros((dimensionOfVector,))\n",
    "    for token in tokens:\n",
    "        if(token in w2v_model):\n",
    "            Vector += w2v_model[token]\n",
    "    return Vector\n",
    "\n",
    "def processInputSet(inputSentences, w2v_model, inputAnswers, dimensionOfVector):\n",
    "    inputX = []\n",
    "    inputY = inputAnswers\n",
    "    for sentence in inputSentences:\n",
    "        inputSentenceVector = convertDocumentToVector(w2v_model, sentence, dimensionOfVector)\n",
    "        inputX.append(inputSentenceVector)\n",
    "    return inputX, inputY\n",
    "\n",
    "trainX, trainY = processInputSet(trainInputSentences, w2v_model, trainInputAnswers,300)\n",
    "testX, testY = processInputSet(testInputSentences, w2v_model, testInputAnswers,300)\n",
    "clf = svm.SVC()\n",
    "clf.fit(trainX, trainY) \n",
    "clf.predict(testX)\n"
   ]
  }
 ],
 "metadata": {
  "anaconda-cloud": {},
  "kernelspec": {
   "display_name": "Python [Root]",
   "language": "python",
   "name": "Python [Root]"
  },
  "language_info": {
   "codemirror_mode": {
    "name": "ipython",
    "version": 2
   },
   "file_extension": ".py",
   "mimetype": "text/x-python",
   "name": "python",
   "nbconvert_exporter": "python",
   "pygments_lexer": "ipython2",
   "version": "2.7.12"
  }
 },
 "nbformat": 4,
 "nbformat_minor": 0
}
